{
  "nbformat": 4,
  "nbformat_minor": 0,
  "metadata": {
    "colab": {
      "name": "train.ipynb",
      "provenance": [],
      "collapsed_sections": []
    },
    "kernelspec": {
      "name": "python3",
      "display_name": "Python 3"
    },
    "accelerator": "GPU"
  },
  "cells": [
    {
      "cell_type": "markdown",
      "metadata": {
        "id": "D8usSW9Bwv4h"
      },
      "source": [
        "# AIR - Exercise in Google Colab\n",
        "\n",
        "## Colab Preparation\n",
        "\n",
        "Open via google drive -> right click: open with Colab\n",
        "\n",
        "**Get a GPU**\n",
        "\n",
        "Toolbar -> Runtime -> Change Runtime Type -> GPU\n",
        "\n",
        "**Mount Google Drive**\n",
        "\n",
        "* Download data and clone your github repo to your Google Drive folder\n",
        "* Use Google Drive as connection between Github and Colab (Could also use direct github access, but re-submitting credentials might be annoying)\n",
        "* Commit to Github locally from the synced drive\n",
        "\n",
        "**Keep Alive**\n",
        "\n",
        "When training google colab tends to kick you out, This might help: https://medium.com/@shivamrawat_756/how-to-prevent-google-colab-from-disconnecting-717b88a128c0\n",
        "\n",
        "**Get Started**\n",
        "\n",
        "Run the following script to mount google drive and install needed python packages. Pytorch comes pre-installed."
      ]
    },
    {
      "cell_type": "code",
      "execution_count": 19,
      "metadata": {
        "colab": {
          "base_uri": "https://localhost:8080/"
        },
        "id": "Sfiw_6jZ0uWa",
        "outputId": "4cf59aa3-f5e7-4d40-a0c3-e5105ec13ad6"
      },
      "outputs": [
        {
          "output_type": "stream",
          "name": "stdout",
          "text": [
            "Drive already mounted at /content/drive; to attempt to forcibly remount, call drive.mount(\"/content/drive\", force_remount=True).\n",
            "Looking in indexes: https://pypi.org/simple, https://us-python.pkg.dev/colab-wheels/public/simple/\n",
            "Requirement already satisfied: transformers in /usr/local/lib/python3.7/dist-packages (4.19.4)\n",
            "Requirement already satisfied: huggingface-hub<1.0,>=0.1.0 in /usr/local/lib/python3.7/dist-packages (from transformers) (0.7.0)\n",
            "Requirement already satisfied: tokenizers!=0.11.3,<0.13,>=0.11.1 in /usr/local/lib/python3.7/dist-packages (from transformers) (0.12.1)\n",
            "Requirement already satisfied: packaging>=20.0 in /usr/local/lib/python3.7/dist-packages (from transformers) (21.3)\n",
            "Requirement already satisfied: numpy>=1.17 in /usr/local/lib/python3.7/dist-packages (from transformers) (1.21.6)\n",
            "Requirement already satisfied: regex!=2019.12.17 in /usr/local/lib/python3.7/dist-packages (from transformers) (2019.12.20)\n",
            "Requirement already satisfied: filelock in /usr/local/lib/python3.7/dist-packages (from transformers) (3.7.0)\n",
            "Requirement already satisfied: tqdm>=4.27 in /usr/local/lib/python3.7/dist-packages (from transformers) (4.64.0)\n",
            "Requirement already satisfied: importlib-metadata in /usr/local/lib/python3.7/dist-packages (from transformers) (4.11.4)\n",
            "Requirement already satisfied: pyyaml>=5.1 in /usr/local/lib/python3.7/dist-packages (from transformers) (6.0)\n",
            "Requirement already satisfied: requests in /usr/local/lib/python3.7/dist-packages (from transformers) (2.23.0)\n",
            "Requirement already satisfied: typing-extensions>=3.7.4.3 in /usr/local/lib/python3.7/dist-packages (from huggingface-hub<1.0,>=0.1.0->transformers) (4.2.0)\n",
            "Requirement already satisfied: pyparsing!=3.0.5,>=2.0.2 in /usr/local/lib/python3.7/dist-packages (from packaging>=20.0->transformers) (3.0.9)\n",
            "Requirement already satisfied: zipp>=0.5 in /usr/local/lib/python3.7/dist-packages (from importlib-metadata->transformers) (3.8.0)\n",
            "Requirement already satisfied: certifi>=2017.4.17 in /usr/local/lib/python3.7/dist-packages (from requests->transformers) (2022.5.18.1)\n",
            "Requirement already satisfied: idna<3,>=2.5 in /usr/local/lib/python3.7/dist-packages (from requests->transformers) (2.10)\n",
            "Requirement already satisfied: chardet<4,>=3.0.2 in /usr/local/lib/python3.7/dist-packages (from requests->transformers) (3.0.4)\n",
            "Requirement already satisfied: urllib3!=1.25.0,!=1.25.1,<1.26,>=1.21.1 in /usr/local/lib/python3.7/dist-packages (from requests->transformers) (1.24.3)\n"
          ]
        }
      ],
      "source": [
        "from google.colab import drive\n",
        "import pandas as pd\n",
        "drive.mount('/content/drive')\n",
        "\n",
        "!pip install transformers\n",
        "\n",
        "path=\"/content/drive/MyDrive/AIR/AIR/air-exercise-2/Part-3/\""
      ]
    },
    {
      "cell_type": "code",
      "execution_count": 20,
      "metadata": {
        "colab": {
          "base_uri": "https://localhost:8080/"
        },
        "id": "IUVVDw1m2sed",
        "outputId": "b00effe4-70ad-4936-9bee-62d662882a65"
      },
      "outputs": [
        {
          "output_type": "stream",
          "name": "stderr",
          "text": [
            "/usr/local/lib/python3.7/dist-packages/pandas/util/_decorators.py:311: ParserWarning: Falling back to the 'python' engine because the 'c' engine does not support regex separators (separators > 1 char and different from '\\s+' are interpreted as regex); you can avoid this warning by specifying engine='python'.\n",
            "  return func(*args, **kwargs)\n"
          ]
        }
      ],
      "source": [
        "qa_tuples = pd.read_csv(r'{}msmarco-fira-21.qrels.qa-tuples.tsv'.format(path),sep='8921349812748}',header=None,names=['entry'])\n",
        "qa_tuples.entry = qa_tuples.entry.str.split('\\t')\n",
        "def fix_tuples(row):\n",
        "    return [row[0],row[1],row[2],row[3],row[4],row[6:]]\n",
        "\n",
        "qa_tuples.entry = (qa_tuples.entry.apply(fix_tuples))\n",
        "qa_tuples = pd.DataFrame(qa_tuples[\"entry\"].to_list(), columns=['queryid', 'documentid', 'relevance_grade', 'query_text', 'document_text', 'text_selection'])\n",
        "\n",
        "def str_start(row):\n",
        "    start_index = []\n",
        "    for string in row.text_selection:\n",
        "        start_index.append(row.document_text.index(string))\n",
        "    return {'answer_start':start_index,'text':row.text_selection}\n",
        "\n",
        "qa_tuples['answers'] = qa_tuples.apply(str_start,axis=1)"
      ]
    },
    {
      "cell_type": "code",
      "source": [
        "from transformers import AutoModelForQuestionAnswering,  AutoTokenizer, pipeline\n",
        "\n",
        "model_name = \"deepset/minilm-uncased-squad2\"\n",
        "\n",
        "# a) Get predictions\n",
        "nlp = pipeline('question-answering', model=model_name, tokenizer=model_name)\n",
        "QA_input = {\n",
        "    'question': 'Why is model conversion important?',\n",
        "    'context': 'The option to convert models between FARM and transformers gives freedom to the user and let people easily switch between frameworks.'\n",
        "}\n",
        "res = nlp(QA_input)\n",
        "\n",
        "print(res)"
      ],
      "metadata": {
        "colab": {
          "base_uri": "https://localhost:8080/"
        },
        "id": "WPNTG0E8iavW",
        "outputId": "1b654096-b43e-4d9c-b193-1d684f87359f"
      },
      "execution_count": 21,
      "outputs": [
        {
          "output_type": "stream",
          "name": "stdout",
          "text": [
            "{'score': 0.33747559785842896, 'start': 65, 'end': 84, 'answer': 'freedom to the user'}\n"
          ]
        }
      ]
    },
    {
      "cell_type": "code",
      "source": [
        "def get_answers(row):\n",
        "  question = row.query_text\n",
        "  context = row.document_text\n",
        "\n",
        "  QA_input = {\n",
        "    'question': question,\n",
        "    'context': context\n",
        "  } \n",
        "\n",
        "  return nlp(QA_input)['answer']\n"
      ],
      "metadata": {
        "id": "bE2j13q7ijwD"
      },
      "execution_count": 22,
      "outputs": []
    },
    {
      "cell_type": "code",
      "source": [
        "qa_tuples['model_answer'] = qa_tuples.apply(get_answers,axis=1)"
      ],
      "metadata": {
        "id": "XtVBQ8nbju80"
      },
      "execution_count": 23,
      "outputs": []
    },
    {
      "cell_type": "code",
      "source": [
        "from core_metrics import normalize_answer,get_tokens,compute_exact,compute_f1"
      ],
      "metadata": {
        "id": "eimz28MtjwGp"
      },
      "execution_count": 24,
      "outputs": []
    },
    {
      "cell_type": "code",
      "source": [
        "def calculate_answer_scores(data):\n",
        "\n",
        "  real_answers = data['text_selection']\n",
        "  model_answer = data['model_answer']\n",
        "\n",
        "\n",
        "  f1_scores = []\n",
        "  exact_scores = []\n",
        "  contained = []\n",
        "\n",
        "  for answer in real_answers:\n",
        "    f1_scores.append(compute_f1(answer,model_answer))\n",
        "    exact_scores.append(compute_exact(answer,model_answer))\n",
        "    \n",
        "    if answer in model_answer:\n",
        "      contained.append(1)\n",
        "    else: \n",
        "      contained.append(0)\n",
        "      \n",
        "\n",
        "  return max(f1_scores),max(exact_scores),max(contained)"
      ],
      "metadata": {
        "id": "RkC4kdFpkD6J"
      },
      "execution_count": 25,
      "outputs": []
    },
    {
      "cell_type": "code",
      "source": [
        "qa_tuples[['F1_score','Exact_score',\"Contained\"]] = qa_tuples.apply(calculate_answer_scores,axis=1, result_type='expand')"
      ],
      "metadata": {
        "id": "KTeTcUwVpcLf"
      },
      "execution_count": 26,
      "outputs": []
    },
    {
      "cell_type": "code",
      "source": [
        "qa_tuples"
      ],
      "metadata": {
        "colab": {
          "base_uri": "https://localhost:8080/",
          "height": 1000
        },
        "id": "JJf7LO05odSx",
        "outputId": "69c50b42-6fde-486c-d72a-4f4e262bf8ba"
      },
      "execution_count": 30,
      "outputs": [
        {
          "output_type": "execute_result",
          "data": {
            "text/plain": [
              "       queryid documentid relevance_grade  \\\n",
              "0       135386     100163               3   \n",
              "1       290779     101026               3   \n",
              "2        21741    1021598               3   \n",
              "3       810210    1029662               3   \n",
              "4      1097448     103635               3   \n",
              "...        ...        ...             ...   \n",
              "52601   525779    4877404               2   \n",
              "52602   210442    4877731               3   \n",
              "52603  1088928    4878423               3   \n",
              "52604   550565    4881591               3   \n",
              "52605   474873    4882630               3   \n",
              "\n",
              "                                              query_text  \\\n",
              "0                              definition of imagination   \n",
              "1      how many oscars has clint eastwood won?pdrijgh...   \n",
              "2             are cold sores and fever blisters the same   \n",
              "3                what is the cause of blood in the stool   \n",
              "4                  how many calories in slim fast shakes   \n",
              "...                                                  ...   \n",
              "52601                                  twin tower adress   \n",
              "52602           how can i get more energy while pregnant   \n",
              "52603         vitamins a, d, e, and k are dependent upon   \n",
              "52604   what age can you wear baby on back in a carrier?   \n",
              "52605                   phone number to cancel sirius xm   \n",
              "\n",
              "                                           document_text  \\\n",
              "0      imagination - the formation of a mental image ...   \n",
              "1      Clint Eastwood -- five-time Oscar winner and e...   \n",
              "2      Cold sores, sometimes called fever blisters, a...   \n",
              "3      Having blood in the stool can be the result of...   \n",
              "4      The chocolate-flavored shake contains 190, whi...   \n",
              "...                                                  ...   \n",
              "52601  The twin towers were built in the borough of M...   \n",
              "52602  To compensate for this your body will require ...   \n",
              "52603  Four important fat-soluble vitamins are A, D, ...   \n",
              "52604  When can I carry my baby in a front pack facin...   \n",
              "52605  Call 1-855-236-9236 when you get your new GMC ...   \n",
              "\n",
              "                                          text_selection  \\\n",
              "0      [the formation of a mental image of something ...   \n",
              "1                                                 [five]   \n",
              "2          [Cold sores, sometimes called fever blisters]   \n",
              "3      [wide variety of conditions, such as hemorrhoi...   \n",
              "4      [chocolate-flavored shake contains 190, Cafe C...   \n",
              "...                                                  ...   \n",
              "52601  [The twin towers were built in the borough of ...   \n",
              "52602  [To compensate for this your body will require...   \n",
              "52603  [Vitamins A, D, and K cooperate synergisticall...   \n",
              "52604  [As soon as your baby can hold his head up ste...   \n",
              "52605  [Call 1-855-236-9236 when you get your new GMC...   \n",
              "\n",
              "                                                 answers  \\\n",
              "0      {'answer_start': [14], 'text': ['the formation...   \n",
              "1               {'answer_start': [18], 'text': ['five']}   \n",
              "2      {'answer_start': [0], 'text': ['Cold sores, so...   \n",
              "3      {'answer_start': [49], 'text': ['wide variety ...   \n",
              "4      {'answer_start': [4, 53], 'text': ['chocolate-...   \n",
              "...                                                  ...   \n",
              "52601  {'answer_start': [0, 55, 167], 'text': ['The t...   \n",
              "52602  {'answer_start': [0], 'text': ['To compensate ...   \n",
              "52603  {'answer_start': [56, 178], 'text': ['Vitamins...   \n",
              "52604  {'answer_start': [53], 'text': ['As soon as yo...   \n",
              "52605  {'answer_start': [0], 'text': ['Call 1-855-236...   \n",
              "\n",
              "                                            model_answer  F1_score  \\\n",
              "0                                            imagination  0.000000   \n",
              "1                                                   five  1.000000   \n",
              "2      The skin around the blisters is often red, swo...  0.133333   \n",
              "3      Having blood in the stool can be the result of...  0.205128   \n",
              "4          each provide about 10 percent of the calories  0.142857   \n",
              "...                                                  ...       ...   \n",
              "52601               he Twin Towers are not being rebuilt  0.266667   \n",
              "52602  your body will require an increase in energy o...  0.377358   \n",
              "52603                          cooperate synergistically  0.200000   \n",
              "52604                                      4 to 6 months  0.173913   \n",
              "52605                                Call 1-855-236-9236  0.222222   \n",
              "\n",
              "       Exact_score  Contained  \n",
              "0              0.0        0.0  \n",
              "1              1.0        1.0  \n",
              "2              0.0        0.0  \n",
              "3              0.0        0.0  \n",
              "4              0.0        0.0  \n",
              "...            ...        ...  \n",
              "52601          0.0        0.0  \n",
              "52602          0.0        0.0  \n",
              "52603          0.0        0.0  \n",
              "52604          0.0        0.0  \n",
              "52605          0.0        0.0  \n",
              "\n",
              "[52606 rows x 11 columns]"
            ],
            "text/html": [
              "\n",
              "  <div id=\"df-3eb08460-efa5-45dc-a5dc-96588c19d056\">\n",
              "    <div class=\"colab-df-container\">\n",
              "      <div>\n",
              "<style scoped>\n",
              "    .dataframe tbody tr th:only-of-type {\n",
              "        vertical-align: middle;\n",
              "    }\n",
              "\n",
              "    .dataframe tbody tr th {\n",
              "        vertical-align: top;\n",
              "    }\n",
              "\n",
              "    .dataframe thead th {\n",
              "        text-align: right;\n",
              "    }\n",
              "</style>\n",
              "<table border=\"1\" class=\"dataframe\">\n",
              "  <thead>\n",
              "    <tr style=\"text-align: right;\">\n",
              "      <th></th>\n",
              "      <th>queryid</th>\n",
              "      <th>documentid</th>\n",
              "      <th>relevance_grade</th>\n",
              "      <th>query_text</th>\n",
              "      <th>document_text</th>\n",
              "      <th>text_selection</th>\n",
              "      <th>answers</th>\n",
              "      <th>model_answer</th>\n",
              "      <th>F1_score</th>\n",
              "      <th>Exact_score</th>\n",
              "      <th>Contained</th>\n",
              "    </tr>\n",
              "  </thead>\n",
              "  <tbody>\n",
              "    <tr>\n",
              "      <th>0</th>\n",
              "      <td>135386</td>\n",
              "      <td>100163</td>\n",
              "      <td>3</td>\n",
              "      <td>definition of imagination</td>\n",
              "      <td>imagination - the formation of a mental image ...</td>\n",
              "      <td>[the formation of a mental image of something ...</td>\n",
              "      <td>{'answer_start': [14], 'text': ['the formation...</td>\n",
              "      <td>imagination</td>\n",
              "      <td>0.000000</td>\n",
              "      <td>0.0</td>\n",
              "      <td>0.0</td>\n",
              "    </tr>\n",
              "    <tr>\n",
              "      <th>1</th>\n",
              "      <td>290779</td>\n",
              "      <td>101026</td>\n",
              "      <td>3</td>\n",
              "      <td>how many oscars has clint eastwood won?pdrijgh...</td>\n",
              "      <td>Clint Eastwood -- five-time Oscar winner and e...</td>\n",
              "      <td>[five]</td>\n",
              "      <td>{'answer_start': [18], 'text': ['five']}</td>\n",
              "      <td>five</td>\n",
              "      <td>1.000000</td>\n",
              "      <td>1.0</td>\n",
              "      <td>1.0</td>\n",
              "    </tr>\n",
              "    <tr>\n",
              "      <th>2</th>\n",
              "      <td>21741</td>\n",
              "      <td>1021598</td>\n",
              "      <td>3</td>\n",
              "      <td>are cold sores and fever blisters the same</td>\n",
              "      <td>Cold sores, sometimes called fever blisters, a...</td>\n",
              "      <td>[Cold sores, sometimes called fever blisters]</td>\n",
              "      <td>{'answer_start': [0], 'text': ['Cold sores, so...</td>\n",
              "      <td>The skin around the blisters is often red, swo...</td>\n",
              "      <td>0.133333</td>\n",
              "      <td>0.0</td>\n",
              "      <td>0.0</td>\n",
              "    </tr>\n",
              "    <tr>\n",
              "      <th>3</th>\n",
              "      <td>810210</td>\n",
              "      <td>1029662</td>\n",
              "      <td>3</td>\n",
              "      <td>what is the cause of blood in the stool</td>\n",
              "      <td>Having blood in the stool can be the result of...</td>\n",
              "      <td>[wide variety of conditions, such as hemorrhoi...</td>\n",
              "      <td>{'answer_start': [49], 'text': ['wide variety ...</td>\n",
              "      <td>Having blood in the stool can be the result of...</td>\n",
              "      <td>0.205128</td>\n",
              "      <td>0.0</td>\n",
              "      <td>0.0</td>\n",
              "    </tr>\n",
              "    <tr>\n",
              "      <th>4</th>\n",
              "      <td>1097448</td>\n",
              "      <td>103635</td>\n",
              "      <td>3</td>\n",
              "      <td>how many calories in slim fast shakes</td>\n",
              "      <td>The chocolate-flavored shake contains 190, whi...</td>\n",
              "      <td>[chocolate-flavored shake contains 190, Cafe C...</td>\n",
              "      <td>{'answer_start': [4, 53], 'text': ['chocolate-...</td>\n",
              "      <td>each provide about 10 percent of the calories</td>\n",
              "      <td>0.142857</td>\n",
              "      <td>0.0</td>\n",
              "      <td>0.0</td>\n",
              "    </tr>\n",
              "    <tr>\n",
              "      <th>...</th>\n",
              "      <td>...</td>\n",
              "      <td>...</td>\n",
              "      <td>...</td>\n",
              "      <td>...</td>\n",
              "      <td>...</td>\n",
              "      <td>...</td>\n",
              "      <td>...</td>\n",
              "      <td>...</td>\n",
              "      <td>...</td>\n",
              "      <td>...</td>\n",
              "      <td>...</td>\n",
              "    </tr>\n",
              "    <tr>\n",
              "      <th>52601</th>\n",
              "      <td>525779</td>\n",
              "      <td>4877404</td>\n",
              "      <td>2</td>\n",
              "      <td>twin tower adress</td>\n",
              "      <td>The twin towers were built in the borough of M...</td>\n",
              "      <td>[The twin towers were built in the borough of ...</td>\n",
              "      <td>{'answer_start': [0, 55, 167], 'text': ['The t...</td>\n",
              "      <td>he Twin Towers are not being rebuilt</td>\n",
              "      <td>0.266667</td>\n",
              "      <td>0.0</td>\n",
              "      <td>0.0</td>\n",
              "    </tr>\n",
              "    <tr>\n",
              "      <th>52602</th>\n",
              "      <td>210442</td>\n",
              "      <td>4877731</td>\n",
              "      <td>3</td>\n",
              "      <td>how can i get more energy while pregnant</td>\n",
              "      <td>To compensate for this your body will require ...</td>\n",
              "      <td>[To compensate for this your body will require...</td>\n",
              "      <td>{'answer_start': [0], 'text': ['To compensate ...</td>\n",
              "      <td>your body will require an increase in energy o...</td>\n",
              "      <td>0.377358</td>\n",
              "      <td>0.0</td>\n",
              "      <td>0.0</td>\n",
              "    </tr>\n",
              "    <tr>\n",
              "      <th>52603</th>\n",
              "      <td>1088928</td>\n",
              "      <td>4878423</td>\n",
              "      <td>3</td>\n",
              "      <td>vitamins a, d, e, and k are dependent upon</td>\n",
              "      <td>Four important fat-soluble vitamins are A, D, ...</td>\n",
              "      <td>[Vitamins A, D, and K cooperate synergisticall...</td>\n",
              "      <td>{'answer_start': [56, 178], 'text': ['Vitamins...</td>\n",
              "      <td>cooperate synergistically</td>\n",
              "      <td>0.200000</td>\n",
              "      <td>0.0</td>\n",
              "      <td>0.0</td>\n",
              "    </tr>\n",
              "    <tr>\n",
              "      <th>52604</th>\n",
              "      <td>550565</td>\n",
              "      <td>4881591</td>\n",
              "      <td>3</td>\n",
              "      <td>what age can you wear baby on back in a carrier?</td>\n",
              "      <td>When can I carry my baby in a front pack facin...</td>\n",
              "      <td>[As soon as your baby can hold his head up ste...</td>\n",
              "      <td>{'answer_start': [53], 'text': ['As soon as yo...</td>\n",
              "      <td>4 to 6 months</td>\n",
              "      <td>0.173913</td>\n",
              "      <td>0.0</td>\n",
              "      <td>0.0</td>\n",
              "    </tr>\n",
              "    <tr>\n",
              "      <th>52605</th>\n",
              "      <td>474873</td>\n",
              "      <td>4882630</td>\n",
              "      <td>3</td>\n",
              "      <td>phone number to cancel sirius xm</td>\n",
              "      <td>Call 1-855-236-9236 when you get your new GMC ...</td>\n",
              "      <td>[Call 1-855-236-9236 when you get your new GMC...</td>\n",
              "      <td>{'answer_start': [0], 'text': ['Call 1-855-236...</td>\n",
              "      <td>Call 1-855-236-9236</td>\n",
              "      <td>0.222222</td>\n",
              "      <td>0.0</td>\n",
              "      <td>0.0</td>\n",
              "    </tr>\n",
              "  </tbody>\n",
              "</table>\n",
              "<p>52606 rows × 11 columns</p>\n",
              "</div>\n",
              "      <button class=\"colab-df-convert\" onclick=\"convertToInteractive('df-3eb08460-efa5-45dc-a5dc-96588c19d056')\"\n",
              "              title=\"Convert this dataframe to an interactive table.\"\n",
              "              style=\"display:none;\">\n",
              "        \n",
              "  <svg xmlns=\"http://www.w3.org/2000/svg\" height=\"24px\"viewBox=\"0 0 24 24\"\n",
              "       width=\"24px\">\n",
              "    <path d=\"M0 0h24v24H0V0z\" fill=\"none\"/>\n",
              "    <path d=\"M18.56 5.44l.94 2.06.94-2.06 2.06-.94-2.06-.94-.94-2.06-.94 2.06-2.06.94zm-11 1L8.5 8.5l.94-2.06 2.06-.94-2.06-.94L8.5 2.5l-.94 2.06-2.06.94zm10 10l.94 2.06.94-2.06 2.06-.94-2.06-.94-.94-2.06-.94 2.06-2.06.94z\"/><path d=\"M17.41 7.96l-1.37-1.37c-.4-.4-.92-.59-1.43-.59-.52 0-1.04.2-1.43.59L10.3 9.45l-7.72 7.72c-.78.78-.78 2.05 0 2.83L4 21.41c.39.39.9.59 1.41.59.51 0 1.02-.2 1.41-.59l7.78-7.78 2.81-2.81c.8-.78.8-2.07 0-2.86zM5.41 20L4 18.59l7.72-7.72 1.47 1.35L5.41 20z\"/>\n",
              "  </svg>\n",
              "      </button>\n",
              "      \n",
              "  <style>\n",
              "    .colab-df-container {\n",
              "      display:flex;\n",
              "      flex-wrap:wrap;\n",
              "      gap: 12px;\n",
              "    }\n",
              "\n",
              "    .colab-df-convert {\n",
              "      background-color: #E8F0FE;\n",
              "      border: none;\n",
              "      border-radius: 50%;\n",
              "      cursor: pointer;\n",
              "      display: none;\n",
              "      fill: #1967D2;\n",
              "      height: 32px;\n",
              "      padding: 0 0 0 0;\n",
              "      width: 32px;\n",
              "    }\n",
              "\n",
              "    .colab-df-convert:hover {\n",
              "      background-color: #E2EBFA;\n",
              "      box-shadow: 0px 1px 2px rgba(60, 64, 67, 0.3), 0px 1px 3px 1px rgba(60, 64, 67, 0.15);\n",
              "      fill: #174EA6;\n",
              "    }\n",
              "\n",
              "    [theme=dark] .colab-df-convert {\n",
              "      background-color: #3B4455;\n",
              "      fill: #D2E3FC;\n",
              "    }\n",
              "\n",
              "    [theme=dark] .colab-df-convert:hover {\n",
              "      background-color: #434B5C;\n",
              "      box-shadow: 0px 1px 3px 1px rgba(0, 0, 0, 0.15);\n",
              "      filter: drop-shadow(0px 1px 2px rgba(0, 0, 0, 0.3));\n",
              "      fill: #FFFFFF;\n",
              "    }\n",
              "  </style>\n",
              "\n",
              "      <script>\n",
              "        const buttonEl =\n",
              "          document.querySelector('#df-3eb08460-efa5-45dc-a5dc-96588c19d056 button.colab-df-convert');\n",
              "        buttonEl.style.display =\n",
              "          google.colab.kernel.accessAllowed ? 'block' : 'none';\n",
              "\n",
              "        async function convertToInteractive(key) {\n",
              "          const element = document.querySelector('#df-3eb08460-efa5-45dc-a5dc-96588c19d056');\n",
              "          const dataTable =\n",
              "            await google.colab.kernel.invokeFunction('convertToInteractive',\n",
              "                                                     [key], {});\n",
              "          if (!dataTable) return;\n",
              "\n",
              "          const docLinkHtml = 'Like what you see? Visit the ' +\n",
              "            '<a target=\"_blank\" href=https://colab.research.google.com/notebooks/data_table.ipynb>data table notebook</a>'\n",
              "            + ' to learn more about interactive tables.';\n",
              "          element.innerHTML = '';\n",
              "          dataTable['output_type'] = 'display_data';\n",
              "          await google.colab.output.renderOutput(dataTable, element);\n",
              "          const docLink = document.createElement('div');\n",
              "          docLink.innerHTML = docLinkHtml;\n",
              "          element.appendChild(docLink);\n",
              "        }\n",
              "      </script>\n",
              "    </div>\n",
              "  </div>\n",
              "  "
            ]
          },
          "metadata": {},
          "execution_count": 30
        }
      ]
    },
    {
      "cell_type": "code",
      "source": [
        "def summarize_results(data):\n",
        "\n",
        "  print(data.Exact_score.sum())\n",
        "  print(data.Contained.sum())\n",
        "  print(data.F1_score.sum()/data.shape[0])"
      ],
      "metadata": {
        "id": "_Kroo0u1v41g"
      },
      "execution_count": 27,
      "outputs": []
    },
    {
      "cell_type": "code",
      "source": [
        "summarize_results(qa_tuples)"
      ],
      "metadata": {
        "colab": {
          "base_uri": "https://localhost:8080/"
        },
        "id": "cSHwGs8oxBnX",
        "outputId": "384246b7-a64a-4679-bfb1-5fb0514908c8"
      },
      "execution_count": 28,
      "outputs": [
        {
          "output_type": "stream",
          "name": "stdout",
          "text": [
            "6867.0\n",
            "9441.0\n",
            "0.43677574759651416\n"
          ]
        }
      ]
    },
    {
      "cell_type": "code",
      "source": [
        "qa_tuples.to_csv('{}Model_answers.csv'.format(path))"
      ],
      "metadata": {
        "id": "hTzF9OYuxLZZ"
      },
      "execution_count": 31,
      "outputs": []
    },
    {
      "cell_type": "code",
      "source": [
        "qa_tuples.shape[0]"
      ],
      "metadata": {
        "id": "v3FhQN2TpOD6",
        "outputId": "b2833bb1-a746-4661-b8c7-ea47344af58b",
        "colab": {
          "base_uri": "https://localhost:8080/"
        }
      },
      "execution_count": 32,
      "outputs": [
        {
          "output_type": "execute_result",
          "data": {
            "text/plain": [
              "52606"
            ]
          },
          "metadata": {},
          "execution_count": 32
        }
      ]
    },
    {
      "cell_type": "code",
      "source": [
        ""
      ],
      "metadata": {
        "id": "mVc7J0u69bnJ"
      },
      "execution_count": null,
      "outputs": []
    }
  ]
}